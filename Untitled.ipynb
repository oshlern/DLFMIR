{
 "cells": [
  {
   "cell_type": "code",
   "execution_count": 1,
   "metadata": {
    "collapsed": true
   },
   "outputs": [],
   "source": [
    "import tensorflow as tf\n",
    "import re\n",
    "import numpy as np\n",
    "import pandas as pd\n",
    "import string\n",
    "import matplotlib.pyplot as plt"
   ]
  },
  {
   "cell_type": "code",
   "execution_count": 2,
   "metadata": {
    "collapsed": true
   },
   "outputs": [],
   "source": [
    "df = pd.read_csv('songdata.csv')\n",
    "df['text'] = 'trats ' + df['text'] + ' dne' # start (\"trats\") and end (\"dne\") tokens"
   ]
  },
  {
   "cell_type": "code",
   "execution_count": 3,
   "metadata": {
    "collapsed": true
   },
   "outputs": [],
   "source": [
    "data = df['text'].str.cat(sep=' ').lower() # lowercase all strings\n",
    "# data = ' '.join(word for word in data.split()) # remove punctuation\n",
    "# punctuation = re.sub('\\'', '', string.punctuation)\n",
    "# data = re.sub('(['+punctuation+'])', r' \\1', data)\n",
    "data = ' '.join(word.strip(string.punctuation) for word in data.split()) # remove punctuation"
   ]
  },
  {
   "cell_type": "code",
   "execution_count": 4,
   "metadata": {
    "collapsed": true
   },
   "outputs": [],
   "source": [
    "from collections import Counter\n",
    "num_chars = 1000 # up to 62532635\n",
    "counts = Counter(data[0:num_chars].split(' ')) # using only the first 1000 characters in the string of lyrics\n",
    "count_pairs = sorted(counts.items(), key=lambda x: (-x[1], x[0])) # sort first by incidence, then by alpha numeric key\n",
    "words, word_count = list(zip(*count_pairs))\n",
    "num_words = len(words)\n",
    "word_to_id = dict(zip(words, range(num_words))) # get an ID for each word\n",
    "id_to_word = dict(zip(range(num_words), words)) # get a word for each id\n",
    "all_data_word = data[0:num_chars].split(' ') # using only the first 1000 characters in the string of lyrics\n",
    "all_data_id = [word_to_id[word] for word in all_data_word]"
   ]
  },
  {
   "cell_type": "code",
   "execution_count": 6,
   "metadata": {
    "collapsed": true
   },
   "outputs": [],
   "source": [
    "thresh = 0.01\n",
    "frequencies = np.zeros(num_words)\n",
    "for word_id in all_data_id:\n",
    "    frequencies[word_id] += 1\n",
    "frequencies = np.divide(frequencies, num_words)\n",
    "discard_probs = np.subtract(1, np.sqrt(np.divide(thresh,frequencies)))\n",
    "# print discard_probs\n",
    "# print frequencies\n",
    "\n",
    "# n = range(len(all_data_word))\n",
    "i = 0\n",
    "while i < len(all_data_word):\n",
    "    ind = all_data_id[i]\n",
    "    if np.random.rand() < discard_probs[ind]:\n",
    "        del all_data_word[i]\n",
    "        del all_data_id[i]\n",
    "    i += 1"
   ]
  },
  {
   "cell_type": "code",
   "execution_count": 7,
   "metadata": {},
   "outputs": [
    {
     "name": "stdout",
     "output_type": "stream",
     "text": [
      "98 155\n"
     ]
    }
   ],
   "source": [
    "C = 2\n",
    "N = len(all_data_id)\n",
    "train_data = np.zeros((C+1,N-2))\n",
    "j=0\n",
    "for i in xrange(1,N-1):\n",
    "    train_data[:,j] = all_data_id[i-C/2:i+C/2+1]\n",
    "    j += 1\n",
    "\n",
    "V = len(word_to_id)\n",
    "x_tr = np.zeros((N-2,V))\n",
    "x_tr[range(N-2),train_data[1,:].astype(int)] = 1\n",
    "\n",
    "y_tr = np.zeros((N-2,V)).astype(int)\n",
    "y_tr[range(N-2),train_data[0,:].astype(int)] = 1\n",
    "y_tr[range(N-2),train_data[2,:].astype(int)] = 1\n",
    "print V, N"
   ]
  },
  {
   "cell_type": "code",
   "execution_count": 8,
   "metadata": {
    "collapsed": true
   },
   "outputs": [],
   "source": [
    "V = len(word_to_id)\n",
    "H = 50\n",
    "lr = 0.003\n",
    "\n",
    "X = tf.placeholder(\"float\", shape=[None,V])\n",
    "y = tf.placeholder(\"int32\", shape=[None,V])\n",
    "\n",
    "W_h = tf.Variable(tf.random_normal((V,H), stddev = 0.01)) # mean=0.0\n",
    "b_h = tf.Variable(tf.zeros((1,H)))\n",
    "\n",
    "# we now do the forward pass until we obtain the scores\n",
    "h1 = tf.matmul(X,W_h) + b_h\n",
    "h2 = tf.layers.dense(h1,50,tf.nn.relu)\n",
    "h3 = tf.layers.dense(h2,10,tf.nn.relu)\n",
    "scores = tf.layers.dense(h3,V,tf.nn.sigmoid)\n",
    "y_hat = tf.nn.softmax(scores)\n",
    "\n",
    "loss_f = tf.reduce_mean(tf.nn.softmax_cross_entropy_with_logits(labels=y, logits=scores))\n",
    "GD_step = tf.train.AdamOptimizer(lr).minimize(loss_f)\n",
    "\n"
   ]
  },
  {
   "cell_type": "code",
   "execution_count": 9,
   "metadata": {
    "collapsed": true
   },
   "outputs": [],
   "source": [
    "def get_batch(size=20):\n",
    "    inds = np.random.choice(N-2, size, replace=False)\n",
    "    x, y = x_tr[inds,:], y_tr[inds,:]\n",
    "    return x, y\n",
    "\n",
    "def train(sess, nepochs=25, batch_size=25, calc_loss=True, loss_freq=100):\n",
    "#     print type(x_tr), type(y_tr)\n",
    "    if calc_loss:\n",
    "#         losses = np.ndarray(shape=(int(np.ceil(np.true_divide(nepochs, loss_freq)))), dtype=float)\n",
    "        losses = np.ndarray(shape=(nepochs), dtype=float)\n",
    "        for i in range(nepochs):\n",
    "#             x, y = tf.train.batch([x_tr, y_tr], batch_size=batch_size)\n",
    "#             sess.run(y)\n",
    "#             x, y = x_tr, y_tr\n",
    "#             x_batch, y_batch = tf.train.batch([x_tr, y]) #get_batch(size=batch_size)\n",
    "            sess.run(GD_step, feed_dict={X: x_tr, y: y_tr})\n",
    "            if i%loss_freq == 0:\n",
    "                loss = sess.run(loss_f, feed_dict={X: x_tr, y: y_tr})\n",
    "                losses[i] = loss\n",
    "                print \"epoch \", i, \" loss \", loss\n",
    "                if i != 0:\n",
    "                    losses[i-loss_freq+1:i] = loss\n",
    "        loss = sess.run(loss_f, feed_dict={X: x_tr, y: y_tr})\n",
    "        losses[nepochs-loss_freq:] = loss\n",
    "#         print \"epoch \", nepochs, \" loss \", loss\n",
    "        return losses\n",
    "    else:\n",
    "         for i in range(nepochs):\n",
    "            sess.run(GD_step, feed_dict={X: x_tr, y: y_tr})\n",
    "\n",
    "def test():\n",
    "    predicted_labels = sess.run(max_y_index, feed_dict={X: x_tr, y: y_tr})\n",
    "    tr_acc = np.mean(predicted_labels == np.argmax(y_tr, axis = 1))\n",
    "    print \"The accuracy on the training set is: \", tr_acc\n",
    "    return vl_acc\n",
    "\n",
    "def graph(losses):\n",
    "    %matplotlib notebook\n",
    "    plt.plot(losses)\n",
    "    plt.xlabel(\"epoch\")\n",
    "    plt.ylabel(\"loss\")\n",
    "    plt.show()\n",
    "#     time.sleep(5)\n",
    "#     plt.close()"
   ]
  },
  {
   "cell_type": "code",
   "execution_count": null,
   "metadata": {
    "collapsed": true
   },
   "outputs": [],
   "source": [
    "sess = tf.Session()\n",
    "init = tf.global_variables_initializer()\n",
    "sess.run(init)\n",
    "\n",
    "# you can loop over this to train over more than one epoch.\n",
    "losses = train(sess, nepochs=50000, loss_freq=500)\n",
    "graph(losses)\n",
    "\n",
    "# If you want to obtain the accuracy of the network on the training set:\n",
    "# final_loss = sess.run(loss, feed_dict={X: x_tr, y: y_tr})\n",
    "# print \"The final training loss is: \", final_loss\n",
    "\n",
    "# save W_h to visualize the embeddings\n",
    "# W_h = W_h.eval(session=sess)\n",
    "\n",
    "sess.close()              \n",
    "\n",
    "# The initial traning loss is around 9.17 (use as reference to assess training progress)\n",
    "# how low could the loss go?"
   ]
  }
 ],
 "metadata": {
  "kernelspec": {
   "display_name": "Python 2",
   "language": "python",
   "name": "python2"
  },
  "language_info": {
   "codemirror_mode": {
    "name": "ipython",
    "version": 2
   },
   "file_extension": ".py",
   "mimetype": "text/x-python",
   "name": "python",
   "nbconvert_exporter": "python",
   "pygments_lexer": "ipython2",
   "version": "2.7.10"
  }
 },
 "nbformat": 4,
 "nbformat_minor": 2
}
