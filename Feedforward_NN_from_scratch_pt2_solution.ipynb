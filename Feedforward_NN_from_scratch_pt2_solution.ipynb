{
 "cells": [
  {
   "cell_type": "markdown",
   "metadata": {
    "collapsed": true,
    "slideshow": {
     "slide_type": "slide"
    }
   },
   "source": [
    "# Feedforward Neural Networks (pt. 2) #\n",
    "<img align=\"left\" src=\"https://upload.wikimedia.org/wikipedia/commons/thumb/4/46/Colored_neural_network.svg/300px-Colored_neural_network.svg.png\" />"
   ]
  },
  {
   "cell_type": "markdown",
   "metadata": {
    "slideshow": {
     "slide_type": "slide"
    }
   },
   "source": [
    "In the previous section, we built a softmax classifier with the objective function: $$J = minimize\\{-log(\\hat{y}_{correct})\\}$$\n",
    "\n",
    "Where $\\hat{y}_{correct} \\in \\hat{y}$ and $\\hat{y} = softmax(x~W)$"
   ]
  },
  {
   "cell_type": "markdown",
   "metadata": {
    "slideshow": {
     "slide_type": "slide"
    }
   },
   "source": [
    "So far, the forward pipeline is as follows:\n",
    "\n",
    "1. Multiply your input $x$ by the matrix $W$ to obtain the scores (call them $s$) for each class.\n",
    "2. Compute $softmax(s)$ to obtain $\\hat{y}$ (the \"probabilities\" for each class).\n",
    "3. Compute the cross entropy objective (commonly known as the \"cross entropy loss\")"
   ]
  },
  {
   "cell_type": "markdown",
   "metadata": {
    "slideshow": {
     "slide_type": "slide"
    }
   },
   "source": [
    "The backward pipeline, applied to train the classifier using gradient descent, is as follows:\n",
    "\n",
    "1. Compute the gradient of the objective function w.r.t. the \"trainable\" parameters stored in $W$.\n",
    "2. Update the parameters using the gradients computed.\n",
    "\n",
    "We can easily transform this into a Neural Network by adding a \"hidden layer\" between the input $x$ and the step where we compute the scores. Everything else would remain the same."
   ]
  },
  {
   "cell_type": "markdown",
   "metadata": {
    "slideshow": {
     "slide_type": "slide"
    }
   },
   "source": [
    "The forward pipeline would now look as follows:\n",
    "\n",
    "1. Multiply your input $x$ by the matrix $W^{(h)} \\in \\mathbf{R^{DxH}}$ (where $(h)$ is only an identifier for the matrix, and $\\mathbf{H}$ is the number of columns) to obtain the hidden state $h \\in \\mathbf{R^{1xH}}$.\n",
    "1. Multiply your hidden state $h$ by the output matrix $W^{(o)} \\in \\mathbf{R^{HxC}}$ (where $(o)$ is only an identifier for the matrix) to obtain the scores $s$ for each class.\n",
    "2. Compute $softmax(s)$ to obtain $\\hat{y}$ (the \"probabilities\" for each class).\n",
    "3. Compute the cross entropy objective (commonly known as the \"cross entropy loss\")\n",
    "\n",
    "So the objective looks exacty the same, but $\\hat{y}$ now is:\n",
    "$\\hat{y} = softmax(x~W^{(h)}~W^{(o)})$"
   ]
  },
  {
   "cell_type": "markdown",
   "metadata": {
    "slideshow": {
     "slide_type": "slide"
    }
   },
   "source": [
    "The backward pipeline, applied to train the classifier using gradient descent, is as follows:\n",
    "\n",
    "1. Compute the gradient of the objective function w.r.t. the \"trainable\" parameters in $W^{(h)}$ and $W^{(o)}$.\n",
    "2. Update the parameters using the gradients computed."
   ]
  },
  {
   "cell_type": "markdown",
   "metadata": {
    "slideshow": {
     "slide_type": "slide"
    }
   },
   "source": [
    "As you can see, now we will have to compute two gradients:\n",
    "\n",
    "$\\frac{\\partial J}{\\partial W^{(h)}}$\n",
    "\n",
    "$\\frac{\\partial J}{\\partial W^{(o)}}$"
   ]
  },
  {
   "cell_type": "markdown",
   "metadata": {
    "slideshow": {
     "slide_type": "slide"
    }
   },
   "source": [
    "These gradients would be similar to the ones we calculated previously (note that the scores $s$ now are $s=~x ~W^{(h)} ~W^{(o)}$):\n",
    "\n",
    "$\\frac{\\partial J }{\\partial W^{(h)}} = ~\\big(\\frac{\\partial ~x ~W^{(h)} ~W^{(o)}}{\\partial W^{(h)}}\\big)^T~\\frac{\\partial J}{\\partial \\hat{y}} ~\\frac{\\partial \\hat{y}}{\\partial ~x ~W^{(h)} ~W^{(o)}} = ~\\big(\\frac{\\partial ~x ~W^{(h)} ~W^{(o)}}{\\partial W^{(h)}}\\big)^T~\\frac{\\partial J}{\\partial s} = \\big(x^T~\\frac{\\partial J}{\\partial s}\\big) ~\\big(W^{(o)}\\big)^T$\n",
    "\n",
    "$\\frac{\\partial J }{\\partial W^{(o)}} = ~\\big(\\frac{\\partial ~x ~W^{(h)} ~W^{(o)}}{\\partial W^{(o)}}\\big)^T~\\frac{\\partial J}{\\partial \\hat{y}} ~\\frac{\\partial \\hat{y}}{\\partial ~x ~W^{(h)} ~W^{(o)}} = ~\\big(\\frac{\\partial ~x ~W^{(h)} ~W^{(o)}}{\\partial W^{(o)}}\\big)^T ~\\frac{\\partial J}{\\partial s} = \\bigg(~\\big(W^{(h)}\\big)^T~x^T\\bigg)~\\frac{\\partial J}{\\partial s}$"
   ]
  },
  {
   "cell_type": "markdown",
   "metadata": {
    "slideshow": {
     "slide_type": "slide"
    }
   },
   "source": [
    "And an update step in the direction that maximizes the value of the objective function would be:\n",
    "\n",
    "$W^{(o)} := ~W^{(o)} + ~\\alpha~\\frac{\\partial J }{\\partial W^{(o)}}$\n",
    "\n",
    "$W^{(h)} := ~W^{(h)} + ~\\alpha~\\frac{\\partial J }{\\partial W^{(h)}}$\n",
    "\n",
    "Where $\\alpha$ is a tunable free parameter better known as the \"learning rate\""
   ]
  },
  {
   "cell_type": "markdown",
   "metadata": {
    "slideshow": {
     "slide_type": "slide"
    }
   },
   "source": [
    "Modify your previous program so that this time we have a Neural Network with a hidden layer (you'll first have to reuse code that generates \"fake\" data)\n",
    "\n",
    "Experiment with changing the $\\alpha$ parameter. What else could you experiment with? (i.e. what are your \"tunable\" hyperparameters?)"
   ]
  },
  {
   "cell_type": "code",
   "execution_count": 1,
   "metadata": {
    "collapsed": true,
    "slideshow": {
     "slide_type": "slide"
    }
   },
   "outputs": [],
   "source": [
    "# generate and organize fake data\n",
    "\n",
    "# data parameters\n",
    "N = 20\n",
    "D = 5\n",
    "C = 3\n",
    "\n",
    "# setting a seed to be able to compare results\n",
    "srand(0)\n",
    "\n",
    "# synthetic data\n",
    "all_data = rand(N, D)\n",
    "all_labels = rand(1:C,N,1)\n",
    "data = [all_data all_labels];\n",
    "\n",
    "perc_tr = 0.8\n",
    "perc_vl = 0.1\n",
    "perc_ts = 0.1\n",
    "\n",
    "# randomly shuffle the data\n",
    "data = data[shuffle(1:size(data)[1]), :]\n",
    "\n",
    "# separate into training, validation, and test sets\n",
    "# data\n",
    "x_tr = data[1:floor(Int,N*perc_tr),1:end-1]\n",
    "x_vl = data[floor(Int,N*perc_tr)+1:floor(Int,N*perc_tr)+floor(Int,N*perc_vl),1:end-1]\n",
    "x_ts = data[floor(Int,N*perc_tr)+floor(Int,N*perc_vl)+1:end,1:end-1]\n",
    "# labels\n",
    "y_tr = reshape(data[1:floor(Int,N*perc_tr),end],size(x_tr)[1],1)\n",
    "y_vl = reshape(data[floor(Int,N*perc_tr)+1:floor(Int,N*perc_tr)+floor(Int,N*perc_vl),end],size(x_vl)[1],1)\n",
    "y_ts = reshape(data[floor(Int,N*perc_tr)+floor(Int,N*perc_vl)+1:end,end],size(x_ts)[1],1);"
   ]
  },
  {
   "cell_type": "code",
   "execution_count": 2,
   "metadata": {
    "collapsed": false,
    "slideshow": {
     "slide_type": "slide"
    }
   },
   "outputs": [
    {
     "data": {
      "image/png": "[encoded data removed]",
      "text/plain": [
       "PyPlot.Figure(PyObject <matplotlib.figure.Figure object at 0x7f9a58fcb750>)"
      ]
     },
     "metadata": {},
     "output_type": "display_data"
    },
    {
     "name": "stderr",
     "output_type": "stream",
     "text": [
      "WARNING: Method definition macroexpand(Module, Any) in module Compat at /home/juser/.julia/v0.5/Compat/src/Compat.jl:1491 overwritten in module MacroTools at /opt/julia_packages/.julia/v0.5/MacroTools/src/utils.jl:64.\n"
     ]
    },
    {
     "data": {
      "text/plain": [
       "1-element Array{Any,1}:\n",
       " PyObject <matplotlib.lines.Line2D object at 0x7f9a3950a450>"
      ]
     },
     "execution_count": 2,
     "metadata": {},
     "output_type": "execute_result"
    }
   ],
   "source": [
    "# hyperparameter alpha\n",
    "a = 0.1\n",
    "# the number of hidden layers\n",
    "H = 10\n",
    "\n",
    "# the W matrix\n",
    "W_h = (rand(D,H));\n",
    "W_o = (rand(H,C));\n",
    "nepochs = 200\n",
    "J = zeros(nepochs*size(x_tr)[1],1)\n",
    "for ep=0:nepochs-1\n",
    "\n",
    "    for t=1:size(x_tr)[1]\n",
    "\n",
    "        # forward pass\n",
    "        h = *(reshape(x_tr[t,:],1,D),W_h)\n",
    "        scores = *(h,W_o)\n",
    "        probs = exp(scores)./sum(exp(scores))\n",
    "\n",
    "        # objective \n",
    "        J[floor(Int,ep*size(x_tr)[1] + t),1] = -log(probs[1,floor(Int,y_tr[t])])\n",
    "\n",
    "        # backward pass\n",
    "        dJ_dscores = probs\n",
    "        dJ_dscores[1,floor(Int,y_tr[t])] -= 1\n",
    "\n",
    "        dJ_dW_h = *(*(reshape(x_tr[t,:],1,D)',dJ_dscores),W_o')\n",
    "        dJ_dW_o = *(*(W_h',reshape(x_tr[t,:],1,D)'),dJ_dscores)        \n",
    "\n",
    "        W_h -= a*dJ_dW_h;\n",
    "        W_o -= a*dJ_dW_o;        \n",
    "\n",
    "    end\n",
    "end\n",
    "using PyPlot\n",
    "plot(J)"
   ]
  },
  {
   "cell_type": "markdown",
   "metadata": {
    "slideshow": {
     "slide_type": "slide"
    }
   },
   "source": [
    "What did you notice? What effect did tuning of hyperparameters have?\n",
    "\n",
    "What makes this a good/bad/better/worse way to make a Neural Network Learn? How can we make it better?\n",
    "\n",
    "Highlight observation with a group of classmates and be prepared to share with the class. "
   ]
  },
  {
   "cell_type": "markdown",
   "metadata": {
    "slideshow": {
     "slide_type": "slide"
    }
   },
   "source": [
    "The next logical step would be to add a non-linear function $f()$ right before reaching the hidden layer. This is in fact very common practice. The model would then compute $\\hat{y}$ like this:\n",
    "\n",
    "$$\\hat{y} = softmax( ~f(x~W^{(h)})~W^{(o)})$$\n",
    "\n",
    "There is a whole collection of different non-linearities that you can use. In fact, people have gotten graduate degrees carrying research aimed at finding the best non-linearities that solve different problems."
   ]
  },
  {
   "cell_type": "markdown",
   "metadata": {
    "slideshow": {
     "slide_type": "slide"
    }
   },
   "source": [
    "In practice, common non-linearities are:\n",
    "\n",
    "* $\\sigma(\\theta)$ (the [sigmoid function](https://en.wikipedia.org/wiki/Sigmoid_function))\n",
    "* $\\tanh(\\theta)$ (the [hyperbolic tangent](http://reference.wolfram.com/language/ref/Tanh.html.en))\n",
    "* $\\text{ReLU}(\\theta) = f(\\theta)=\\max(0,\\theta)$ (the Rectified Linear Unit)"
   ]
  },
  {
   "cell_type": "markdown",
   "metadata": {
    "slideshow": {
     "slide_type": "slide"
    }
   },
   "source": [
    "For the purposes of this notebook we will focus on the first two, but feel free to experiment with any non-linearities you would like to. \n",
    "\n",
    "You can imagine that other side of the coin when adding a non-linearity to a Neural Network is knowing its derivative. \n",
    "\n",
    "Thankfully, the derivatives for $\\sigma(\\theta)$ and $\\tanh(\\theta)$ w.r.t $\\theta$ are relatively simple:\n",
    "\n",
    "$$\\frac{\\partial \\sigma(\\theta)}{\\partial \\theta} = \\sigma(\\theta)(1-\\sigma(\\theta)) $$\n",
    "\n",
    "$$\\frac{\\partial \\tanh(\\theta)}{\\partial \\theta} = 1-\\tanh^2(\\theta)$$"
   ]
  },
  {
   "cell_type": "markdown",
   "metadata": {
    "slideshow": {
     "slide_type": "slide"
    }
   },
   "source": [
    "As a case study, let's assume that we pick the sigmoid $\\sigma(\\theta)$ non-linearity to obtain the following expression:\n",
    "\n",
    "$$\\hat{y} = softmax( ~\\sigma(x~W^{(h)})~W^{(o)})$$"
   ]
  },
  {
   "cell_type": "markdown",
   "metadata": {
    "slideshow": {
     "slide_type": "slide"
    }
   },
   "source": [
    "The derivative of the cost function w.r.t parameters $W^{(h)}$ and $W^{(o)}$ would be:\n",
    "\n",
    "$\\frac{\\partial J }{\\partial W^{(o)}} = ~\\big(\\frac{\\partial \\sigma(~x~W^{(h)})~W^{(o)}}{\\partial W^{(o)}}\\big)^T~\\frac{\\partial J}{\\partial \\hat{y}} ~\\frac{\\partial \\hat{y}}{\\partial ~x ~W^{(h)} ~W^{(o)}} = ~\\sigma(~x~W^{(h)})^T~\\frac{\\partial J}{\\partial s}$\n",
    "\n",
    "\n",
    "\n",
    "$\\frac{\\partial J }{\\partial W^{(h)}} = ~\\big(\\frac{\\partial \\sigma(~x~W^{(h)})~W^{(o)}}{\\partial W^{(h)}}\\big)^T~\\frac{\\partial J}{\\partial \\hat{y}} ~\\frac{\\partial \\hat{y}}{\\partial ~x ~W^{(h)} ~W^{(o)}} = ~\\big(\\frac{\\partial \\sigma(~x~W^{(h)})~W^{(o)}}{\\partial W^{(h)}}\\big)^T~\\frac{\\partial J}{\\partial s} =\n",
    "x^T\\bigg(\\big( \\sigma(~x~W^{(h)})(1-\\sigma(~x~W^{(h)})) \\big) \\circ \\big(~\\frac{\\partial J}{\\partial s} ~(W^{(o)})^T\\big)\\bigg)$\n",
    "\n",
    "where $\\circ$ indicates the element-wise multiplication of two arrays."
   ]
  },
  {
   "cell_type": "markdown",
   "metadata": {
    "slideshow": {
     "slide_type": "slide"
    }
   },
   "source": [
    "Modify your previous program so that this time we have a Neural Network with a hidden layer and non-linear sigmoid gating.\n",
    "\n",
    "Julia doesn't have a sigmoid function, so you'll have to write your own.\n",
    "\n",
    "Experiment tuning your hyperparameters. Also, have you tried changing the initialization of the $W^{(h)}$ and the $W^{(o)}$ matrices? Would that matter at all?"
   ]
  },
  {
   "cell_type": "code",
   "execution_count": 15,
   "metadata": {
    "collapsed": false,
    "slideshow": {
     "slide_type": "slide"
    }
   },
   "outputs": [
    {
     "data": {
      "image/png": "[encoded data removed]",
      "text/plain": [
       "PyPlot.Figure(PyObject <matplotlib.figure.Figure object at 0x7fae7e717c10>)"
      ]
     },
     "metadata": {},
     "output_type": "display_data"
    },
    {
     "name": "stderr",
     "output_type": "stream",
     "text": [
      "WARNING: Method definition sigmoid(Any) in module Main at In[14]:8 overwritten at In[15]:8.\n"
     ]
    },
    {
     "data": {
      "text/plain": [
       "1-element Array{Any,1}:\n",
       " PyObject <matplotlib.lines.Line2D object at 0x7fae7e6cbfd0>"
      ]
     },
     "execution_count": 15,
     "metadata": {},
     "output_type": "execute_result"
    }
   ],
   "source": [
    "# hyperparameter alpha\n",
    "a = 1\n",
    "# the number of hidden layers\n",
    "H = 10\n",
    "\n",
    "function sigmoid(theta)\n",
    "\n",
    "  return 1.0 ./ (1.0 .+ exp(-theta))\n",
    "\n",
    "end\n",
    "\n",
    "# the W matrix\n",
    "W_h = (rand(D,H));\n",
    "W_o = (rand(H,C));\n",
    "nepochs = 200\n",
    "J = zeros(nepochs*size(x_tr)[1],1)\n",
    "for ep=0:nepochs-1\n",
    "\n",
    "    for t=1:size(x_tr)[1]\n",
    "\n",
    "        # forward pass\n",
    "        h = sigmoid(*(reshape(x_tr[t,:],1,D),W_h))\n",
    "        scores = *(reshape(h,1,H),W_o)\n",
    "        probs = exp(scores)./sum(exp(scores))\n",
    "\n",
    "        # objective \n",
    "        J[floor(Int,ep*size(x_tr)[1] + t),1] = -log(probs[1,floor(Int,y_tr[t])])\n",
    "\n",
    "        # backward pass\n",
    "        dJ_dscores = probs\n",
    "        dJ_dscores[1,floor(Int,y_tr[t])] -= 1\n",
    "\n",
    "        dJ_dW_o = *(h',dJ_dscores)        \n",
    "        dJ_dW_h = *(reshape(x_tr[t,:],1,D)',(reshape(h,1,H).*(1.-reshape(h,1,H))).*(*(dJ_dscores,W_o')))\n",
    "\n",
    "        W_h -= a*dJ_dW_h;\n",
    "        W_o -= a*dJ_dW_o;        \n",
    "\n",
    "    end\n",
    "end\n",
    "using PyPlot\n",
    "plot(J)"
   ]
  },
  {
   "cell_type": "markdown",
   "metadata": {
    "slideshow": {
     "slide_type": "slide"
    }
   },
   "source": [
    "That's it! You have built a Neural Network from scratch.\n",
    "\n",
    "Feel free to experiment with other non-linearities, adding more hidden layers (even with different non-linearities), and tuning your hyperparameters.\n",
    "\n",
    "Congratulations!"
   ]
  }
 ],
 "metadata": {
  "celltoolbar": "Slideshow",
  "kernelspec": {
   "display_name": "Julia 0.5.2",
   "language": "julia",
   "name": "julia-0.5"
  },
  "language_info": {
   "file_extension": ".jl",
   "mimetype": "application/julia",
   "name": "julia",
   "version": "0.5.2"
  }
 },
 "nbformat": 4,
 "nbformat_minor": 2
}
