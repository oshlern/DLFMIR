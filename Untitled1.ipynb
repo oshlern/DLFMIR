{
 "cells": [
  {
   "cell_type": "code",
   "execution_count": 1,
   "metadata": {
    "collapsed": true
   },
   "outputs": [],
   "source": [
    "import tensorflow as tf\n",
    "import re\n",
    "import numpy as np\n",
    "import pandas as pd\n",
    "import string\n",
    "import matplotlib.pyplot as plt"
   ]
  },
  {
   "cell_type": "code",
   "execution_count": 2,
   "metadata": {},
   "outputs": [],
   "source": [
    "data_tr = np.load('gtzan/gtzan_tr.npy')\n",
    "data_te = np.load('gtzan/gtzan_te.npy')\n",
    "data_cv = np.load('gtzan/gtzan_cv.npy')"
   ]
  },
  {
   "cell_type": "code",
   "execution_count": 3,
   "metadata": {},
   "outputs": [
    {
     "ename": "NameError",
     "evalue": "name 'x_tr' is not defined",
     "output_type": "error",
     "traceback": [
      "\u001b[0;31m---------------------------------------------------------------------------\u001b[0m",
      "\u001b[0;31mNameError\u001b[0m                                 Traceback (most recent call last)",
      "\u001b[0;32m<ipython-input-3-2ac45dc44efa>\u001b[0m in \u001b[0;36m<module>\u001b[0;34m()\u001b[0m\n\u001b[0;32m----> 1\u001b[0;31m \u001b[0;32mprint\u001b[0m \u001b[0mx_tr\u001b[0m\u001b[0;34m.\u001b[0m\u001b[0mshape\u001b[0m\u001b[0;34m,\u001b[0m \u001b[0my_tr\u001b[0m\u001b[0;34m.\u001b[0m\u001b[0mshape\u001b[0m\u001b[0;34m,\u001b[0m \u001b[0my_vl\u001b[0m\u001b[0;34m.\u001b[0m\u001b[0mshape\u001b[0m\u001b[0;34m\u001b[0m\u001b[0m\n\u001b[0m",
      "\u001b[0;31mNameError\u001b[0m: name 'x_tr' is not defined"
     ]
    }
   ],
   "source": [
    "print x_tr.shape, y_tr.shape, y_vl.shape"
   ]
  },
  {
   "cell_type": "code",
   "execution_count": 4,
   "metadata": {},
   "outputs": [],
   "source": [
    "x_tr, y_tr = data_tr[:,:-1], data_tr[:,-1]#.reshape(1,len(data_tr))\n",
    "x_ts, y_ts = data_te[:,:-1], data_te[:,-1]#.reshape(1,len(data_te))\n",
    "x_vl, y_vl = data_cv[:,:-1], data_cv[:,-1]#.reshape(1,len(data_cv))"
   ]
  },
  {
   "cell_type": "code",
   "execution_count": 35,
   "metadata": {
    "collapsed": true
   },
   "outputs": [],
   "source": [
    "N = x_tr.shape[0]\n",
    "D = x_tr.shape[1]\n",
    "C = 10\n",
    "\n",
    "dp = 0.05\n",
    "lr = 2"
   ]
  },
  {
   "cell_type": "code",
   "execution_count": 31,
   "metadata": {},
   "outputs": [
    {
     "ename": "IndexError",
     "evalue": "shape mismatch: indexing arrays could not be broadcast together with shapes (8000,) (8000,10) ",
     "output_type": "error",
     "traceback": [
      "\u001b[0;31m---------------------------------------------------------------------------\u001b[0m",
      "\u001b[0;31mIndexError\u001b[0m                                Traceback (most recent call last)",
      "\u001b[0;32m<ipython-input-31-d25bc8aed9d7>\u001b[0m in \u001b[0;36m<module>\u001b[0;34m()\u001b[0m\n\u001b[1;32m      1\u001b[0m \u001b[0mtemp\u001b[0m \u001b[0;34m=\u001b[0m \u001b[0mnp\u001b[0m\u001b[0;34m.\u001b[0m\u001b[0mzeros\u001b[0m\u001b[0;34m(\u001b[0m\u001b[0;34m(\u001b[0m\u001b[0my_tr\u001b[0m\u001b[0;34m.\u001b[0m\u001b[0mshape\u001b[0m\u001b[0;34m[\u001b[0m\u001b[0;36m0\u001b[0m\u001b[0;34m]\u001b[0m\u001b[0;34m,\u001b[0m\u001b[0mC\u001b[0m\u001b[0;34m)\u001b[0m\u001b[0;34m)\u001b[0m\u001b[0;34m\u001b[0m\u001b[0m\n\u001b[0;32m----> 2\u001b[0;31m \u001b[0mtemp\u001b[0m\u001b[0;34m[\u001b[0m\u001b[0mnp\u001b[0m\u001b[0;34m.\u001b[0m\u001b[0marange\u001b[0m\u001b[0;34m(\u001b[0m\u001b[0my_tr\u001b[0m\u001b[0;34m.\u001b[0m\u001b[0mshape\u001b[0m\u001b[0;34m[\u001b[0m\u001b[0;36m0\u001b[0m\u001b[0;34m]\u001b[0m\u001b[0;34m)\u001b[0m\u001b[0;34m,\u001b[0m\u001b[0my_tr\u001b[0m\u001b[0;34m.\u001b[0m\u001b[0mastype\u001b[0m\u001b[0;34m(\u001b[0m\u001b[0mint\u001b[0m\u001b[0;34m)\u001b[0m\u001b[0;34m[\u001b[0m\u001b[0;34m:\u001b[0m\u001b[0;34m]\u001b[0m\u001b[0;34m]\u001b[0m \u001b[0;34m=\u001b[0m \u001b[0;36m1\u001b[0m\u001b[0;34m\u001b[0m\u001b[0m\n\u001b[0m\u001b[1;32m      3\u001b[0m \u001b[0my_tr\u001b[0m \u001b[0;34m=\u001b[0m \u001b[0mtemp\u001b[0m\u001b[0;34m\u001b[0m\u001b[0m\n\u001b[1;32m      4\u001b[0m \u001b[0mtemp\u001b[0m \u001b[0;34m=\u001b[0m \u001b[0mnp\u001b[0m\u001b[0;34m.\u001b[0m\u001b[0mzeros\u001b[0m\u001b[0;34m(\u001b[0m\u001b[0;34m(\u001b[0m\u001b[0my_vl\u001b[0m\u001b[0;34m.\u001b[0m\u001b[0mshape\u001b[0m\u001b[0;34m[\u001b[0m\u001b[0;36m0\u001b[0m\u001b[0;34m]\u001b[0m\u001b[0;34m,\u001b[0m\u001b[0mC\u001b[0m\u001b[0;34m)\u001b[0m\u001b[0;34m)\u001b[0m\u001b[0;34m\u001b[0m\u001b[0m\n\u001b[1;32m      5\u001b[0m \u001b[0mtemp\u001b[0m\u001b[0;34m[\u001b[0m\u001b[0mnp\u001b[0m\u001b[0;34m.\u001b[0m\u001b[0marange\u001b[0m\u001b[0;34m(\u001b[0m\u001b[0my_vl\u001b[0m\u001b[0;34m.\u001b[0m\u001b[0mshape\u001b[0m\u001b[0;34m[\u001b[0m\u001b[0;36m0\u001b[0m\u001b[0;34m]\u001b[0m\u001b[0;34m)\u001b[0m\u001b[0;34m,\u001b[0m\u001b[0my_vl\u001b[0m\u001b[0;34m.\u001b[0m\u001b[0mastype\u001b[0m\u001b[0;34m(\u001b[0m\u001b[0mint\u001b[0m\u001b[0;34m)\u001b[0m\u001b[0;34m[\u001b[0m\u001b[0;34m:\u001b[0m\u001b[0;34m]\u001b[0m\u001b[0;34m]\u001b[0m \u001b[0;34m=\u001b[0m \u001b[0;36m1\u001b[0m\u001b[0;34m\u001b[0m\u001b[0m\n",
      "\u001b[0;31mIndexError\u001b[0m: shape mismatch: indexing arrays could not be broadcast together with shapes (8000,) (8000,10) "
     ]
    }
   ],
   "source": [
    "temp = np.zeros((y_tr.shape[0],C))\n",
    "temp[np.arange(y_tr.shape[0]),y_tr.astype(int)[:]] = 1\n",
    "y_tr = temp\n",
    "temp = np.zeros((y_vl.shape[0],C))\n",
    "temp[np.arange(y_vl.shape[0]),y_vl.astype(int)[:]] = 1\n",
    "y_vl = temp\n",
    "temp = np.zeros((y_ts.shape[0],C))\n",
    "temp[np.arange(y_ts.shape[0]),y_ts.astype(int)[:]] = 1\n",
    "y_ts = temp\n",
    "del temp"
   ]
  },
  {
   "cell_type": "code",
   "execution_count": 36,
   "metadata": {},
   "outputs": [],
   "source": [
    "X = tf.placeholder(\"float\", shape=[None,D])\n",
    "y = tf.placeholder(\"float\", shape=[None,C])\n",
    "\n",
    "h1 = tf.layers.dense(tf.layers.dropout(X,dp),20,tf.nn.sigmoid)\n",
    "# h2 = tf.layers.dense(h1,50,tf.nn.relu)\n",
    "# h3 = tf.layers.dense(h2,10,tf.nn.relu)\n",
    "scores = tf.layers.dense(h1,C,tf.nn.relu)\n",
    "y_hat = tf.nn.softmax(scores)\n",
    "max_y_index = tf.argmax(y_hat, axis = 1)\n",
    "\n",
    "loss_f = tf.reduce_mean(tf.nn.softmax_cross_entropy_with_logits(labels=y, logits=scores))\n",
    "GD_step = tf.train.AdagradOptimizer(lr).minimize(loss_f)"
   ]
  },
  {
   "cell_type": "code",
   "execution_count": 37,
   "metadata": {
    "collapsed": true
   },
   "outputs": [],
   "source": [
    "def get_batch(size=20):\n",
    "    inds = np.random.choice(N-2, size, replace=False)\n",
    "    x, y = x_tr[inds,:], y_tr[inds,:]\n",
    "    return x, y\n",
    "\n",
    "def train(sess, nepochs=25, batch_size=25, calc_loss=True, loss_freq=100):\n",
    "    if calc_loss:\n",
    "        losses = np.ndarray(shape=(nepochs), dtype=float)\n",
    "        for i in range(nepochs):\n",
    "#             x_batch, y_batch = tf.train.batch([x_tr, y_tr], batch_size) #get_batch(size=batch_size)\n",
    "            sess.run(GD_step, feed_dict={X: x_tr, y: y_tr}) #np.array(x_batch), y: np.array(y_batch)})\n",
    "            if i%loss_freq == 0:\n",
    "                loss = sess.run(loss_f, feed_dict={X: x_tr, y: y_tr})\n",
    "                losses[i] = loss\n",
    "                print \"epoch \", i, \" loss \", loss\n",
    "                if i != 0:\n",
    "                    losses[i-loss_freq+1:i] = loss\n",
    "                test()\n",
    "        loss = sess.run(loss_f, feed_dict={X: x_tr, y: y_tr})\n",
    "        losses[nepochs-loss_freq:] = loss\n",
    "        print \"epoch \", nepochs, \" loss \", loss\n",
    "        return losses\n",
    "    else:\n",
    "         for i in range(nepochs):\n",
    "            sess.run(GD_step, feed_dict={X: x_tr, y: y_tr})\n",
    "\n",
    "def test():\n",
    "    predicted_labels = sess.run(max_y_index, feed_dict={X: x_tr, y: y_tr})\n",
    "    tr_acc = np.mean(predicted_labels == np.argmax(y_tr, axis = 1))\n",
    "    print \"The accuracy on the training set is: \", tr_acc\n",
    "    predicted_labels = sess.run(max_y_index, feed_dict={X: x_vl, y: y_vl})\n",
    "    vl_acc = np.mean(predicted_labels == np.argmax(y_vl, axis = 1))\n",
    "    print \"The accuracy on the validation set is: \", vl_acc\n",
    "    return vl_acc\n",
    "\n",
    "def graph(losses):\n",
    "    %matplotlib notebook\n",
    "    plt.plot(losses)\n",
    "    plt.xlabel(\"epoch\")\n",
    "    plt.ylabel(\"loss\")\n",
    "    plt.show()\n",
    "#     time.sleep(5)\n",
    "#     plt.close()"
   ]
  },
  {
   "cell_type": "code",
   "execution_count": null,
   "metadata": {
    "scrolled": true
   },
   "outputs": [
    {
     "name": "stdout",
     "output_type": "stream",
     "text": [
      "epoch  0  loss  2.29643\n",
      "The accuracy on the training set is:  0.130875\n",
      "The accuracy on the validation set is:  0.08\n",
      "epoch  2  loss  2.29437\n",
      "The accuracy on the training set is:  0.12525\n",
      "The accuracy on the validation set is:  0.1\n",
      "epoch  4  loss  2.29148\n",
      "The accuracy on the training set is:  0.11325\n",
      "The accuracy on the validation set is:  0.12\n",
      "epoch  6  loss  2.30397\n",
      "The accuracy on the training set is:  0.120875\n",
      "The accuracy on the validation set is:  0.1\n",
      "epoch  8  loss  2.2546\n",
      "The accuracy on the training set is:  0.152375\n",
      "The accuracy on the validation set is:  0.11\n",
      "epoch  10  loss  2.26519\n",
      "The accuracy on the training set is:  0.10875\n",
      "The accuracy on the validation set is:  0.1\n",
      "epoch  12  loss  2.28546\n",
      "The accuracy on the training set is:  0.11425\n",
      "The accuracy on the validation set is:  0.09\n",
      "epoch  14  loss  2.30232\n",
      "The accuracy on the training set is:  0.101625\n",
      "The accuracy on the validation set is:  0.1\n"
     ]
    }
   ],
   "source": [
    "sess = tf.Session()\n",
    "init = tf.global_variables_initializer()\n",
    "sess.run(init)\n",
    "\n",
    "losses = train(sess, nepochs=50, loss_freq=2)\n",
    "graph(losses)\n",
    "\n",
    "\n",
    "sess.close()              \n"
   ]
  },
  {
   "cell_type": "code",
   "execution_count": null,
   "metadata": {
    "collapsed": true
   },
   "outputs": [],
   "source": []
  }
 ],
 "metadata": {
  "kernelspec": {
   "display_name": "Python 2",
   "language": "python",
   "name": "python2"
  }
 },
 "nbformat": 4,
 "nbformat_minor": 2
}
