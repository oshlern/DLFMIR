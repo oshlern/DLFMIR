{
 "cells": [
  {
   "cell_type": "markdown",
   "metadata": {
    "slideshow": {
     "slide_type": "slide"
    }
   },
   "source": [
    "# Recurrent Neural Networks #\n",
    "\n",
    "When we studied word2vec, we used sequential data to make a network learn relationships between an input and its sorrounding context. \n",
    "\n",
    "The next logical step would be to make a network learn not just the context, but perhaps an long with $T$ elements. This is what Recurrent Neural Networks (RNNs) do."
   ]
  },
  {
   "cell_type": "markdown",
   "metadata": {
    "slideshow": {
     "slide_type": "slide"
    }
   },
   "source": [
    "The general expression describing the forward pass of a simple RNN is:\n",
    "\n",
    "$$\\hat{y}_t = softmax\\big(~h_t~W^{(o)}\\big)$$\n",
    "\n",
    "where $t$ indicates the time-step we are currently evaluating, and where $h$ represents the hidden state at time $t$ given by:\n",
    "\n",
    "$$h = f(~x_t~W^{(i)} ~+~h_{t-1}W^{(h)})$$\n",
    "\n",
    "where $f()$ is an arbitrary non-linear function."
   ]
  },
  {
   "cell_type": "markdown",
   "metadata": {
    "slideshow": {
     "slide_type": "slide"
    }
   },
   "source": [
    "Observing the math for the forward pass, you can see that an RNN is very similar to the feedforward neural networks we have been studying so far. \n",
    "\n",
    "However, one major difference is:\n",
    "\n",
    "* a new $W^{(h)}$ that we use to pass information about the hidden state at time-step to the current time-step. \n",
    "\n",
    "What dimension does $W^{(h)}$ have to be?"
   ]
  },
  {
   "cell_type": "markdown",
   "metadata": {
    "slideshow": {
     "slide_type": "slide"
    }
   },
   "source": [
    "Another difference is the cost function that we need to use:\n",
    "\n",
    "$$J = \\sum_t -\\log(\\hat{y}_{t~correct})$$"
   ]
  },
  {
   "cell_type": "raw",
   "metadata": {
    "slideshow": {
     "slide_type": "slide"
    }
   },
   "source": [
    "Next, we will re-use the text data and the word embeddings that we used in word2vec in order to train an RNN. The next cells prepare the data for you:"
   ]
  },
  {
   "cell_type": "code",
   "execution_count": 27,
   "metadata": {
    "collapsed": false,
    "slideshow": {
     "slide_type": "slide"
    }
   },
   "outputs": [
    {
     "name": "stdout",
     "output_type": "stream",
     "text": [
      "<start> I got idea man You take me for a walk Under the sycamore trees the dark trees that blow baby In the dark trees that blow <end> "
     ]
    }
   ],
   "source": [
    "# vocabulary size\n",
    "V = 21\n",
    "\n",
    "word_to_i = Dict(\"I\" => 0, \"got\" => 1, \"idea\" => 2, \"man\" => 3, \"You\" => 4, \"take\" => 5, \"me\" => 6, \"for\" => 7, \"a\" => 8, \"walk\" => 9, \"Under\" => 10, \"the\" => 11, \"sycamore\" => 12, \"trees\" => 13, \"dark\" => 14, \"that\" => 15, \"blow\" => 16, \"baby\" => 17, \"In\" => 18, \"<end>\" => 19, \"<start>\" => 20)\n",
    "\n",
    "i_to_word = Dict( 0 => \"I\", 1=> \"got\", 2 => \"idea\", 3 => \"man\", 4 => \"You\", 5=> \"take\", 6 => \"me\", 7 => \"for\", 8=> \"a\", 9 => \"walk\", 10 => \"Under\", 11 => \"the\", 12 => \"sycamore\", 13 =>\"trees\", 14=> \"dark\", 15 => \"that\", 16 => \"blow\", 17 => \"baby\",18 =>\"In\", 19 => \"<end>\", 20 => \"<start>\")\n",
    "\n",
    "verse = [20,0,1,2,3,4,5,6,7,8,9,10,11,12,13,11,14,13,15,16,17,18,11,14,13,15,16,19];\n",
    "\n",
    "# let's see the verse\n",
    "for i = 1:size(verse)[1]\n",
    "    print(i_to_word[verse[i]], \" \")\n",
    "end\n",
    "\n",
    "# correct for the base one indexing\n",
    "verse = verse + 1 \n",
    "\n",
    "# now generate the x matrix\n",
    "x = zeros(size(verse)[1], V)\n",
    "for i=1:size(verse)[1]\n",
    "   x[i,verse[i]] = 1\n",
    "end\n",
    "\n",
    "# now generate the y vector\n",
    "y = verse;"
   ]
  },
  {
   "cell_type": "code",
   "execution_count": 28,
   "metadata": {
    "collapsed": false,
    "slideshow": {
     "slide_type": "slide"
    }
   },
   "outputs": [
    {
     "data": {
      "image/png": "[encoded data removed]",
      "text/plain": [
       "PyPlot.Figure(PyObject <matplotlib.figure.Figure object at 0x7f917d899a50>)"
      ]
     },
     "metadata": {},
     "output_type": "display_data"
    },
    {
     "data": {
      "text/plain": [
       "1-element Array{Any,1}:\n",
       " PyObject <matplotlib.lines.Line2D object at 0x7f917d8bf990>"
      ]
     },
     "execution_count": 28,
     "metadata": {},
     "output_type": "execute_result"
    }
   ],
   "source": [
    "x_tr = x\n",
    "y_tr = y\n",
    "D = V\n",
    "C = V\n",
    "\n",
    "# hyperparameter alpha\n",
    "a = 0.0002\n",
    "# the number of hidden layers\n",
    "H = 2\n",
    "\n",
    "# the W matrix\n",
    "W_h = (rand(D,H)*0.001);\n",
    "W_o = (rand(H,C)*0.001);\n",
    "nepochs = 2000\n",
    "J = zeros(nepochs*(size(x_tr)[1]-2),1)\n",
    "J_i = 1\n",
    "for ep=0:nepochs-1\n",
    "\n",
    "    for t=2:size(x_tr)[1]-1\n",
    "\n",
    "        # forward pass (without non-linearity into the hidden layer)\n",
    "        h = *(reshape(x_tr[t,:],1,D),W_h)\n",
    "        scores = *(reshape(h,1,H),W_o)\n",
    "        probs = exp(scores)./sum(exp(scores))\n",
    "\n",
    "        # objective \n",
    "        J[floor(Int,J_i),1] = -log(probs[1,floor(Int,y_tr[t-1])]*probs[1,floor(Int,y_tr[t+1])])\n",
    "        J_i +=1\n",
    "        \n",
    "        # backward pass\n",
    "        dJ_dscores = 2*probs # times two, because we are looking a word before and a word after \n",
    "        dJ_dscores[1,floor(Int,y_tr[t-1])] -= 1\n",
    "        dJ_dscores[1,floor(Int,y_tr[t+1])] -= 1                \n",
    "        \n",
    "        # (without non-linearity back to the hidden layer)\n",
    "        dJ_dW_o = *(h',dJ_dscores)        \n",
    "        dJ_dW_h = *(reshape(x_tr[t,:],1,D)',(*(dJ_dscores,W_o')))\n",
    "\n",
    "        W_h -= a*dJ_dW_h;\n",
    "        W_o -= a*dJ_dW_o;        \n",
    "\n",
    "    end\n",
    "end\n",
    "using PyPlot\n",
    "plot(J)"
   ]
  },
  {
   "cell_type": "code",
   "execution_count": 29,
   "metadata": {
    "collapsed": false,
    "slideshow": {
     "slide_type": "slide"
    }
   },
   "outputs": [
    {
     "data": {
      "image/png": "[encoded data removed]",
      "text/plain": [
       "PyPlot.Figure(PyObject <matplotlib.figure.Figure object at 0x7f9181632f50>)"
      ]
     },
     "metadata": {},
     "output_type": "display_data"
    }
   ],
   "source": [
    "# this should generate a plot of your word_embeddings\n",
    "\n",
    "using PyPlot\n",
    "\n",
    "for i=1:V-1\n",
    "    scatter(W_h[i,1], W_h[i,2])\n",
    "    annotate(i_to_word[i-1],(W_h[i,1], W_h[i,2]))\n",
    "end"
   ]
  },
  {
   "cell_type": "code",
   "execution_count": 30,
   "metadata": {
    "collapsed": false,
    "slideshow": {
     "slide_type": "slide"
    }
   },
   "outputs": [],
   "source": [
    "# now we redefine the x data matrix with the embeddings\n",
    "W_embeddings = W_h\n",
    "D = 2\n",
    "N = size(verse)[1]\n",
    "\n",
    "x = zeros(N,2)\n",
    "for i=1:N\n",
    "   \n",
    "    x[i,:] = W_embeddings[verse[i],:]\n",
    "    \n",
    "end\n",
    "\n",
    "# the y vector can stay the same"
   ]
  },
  {
   "cell_type": "markdown",
   "metadata": {
    "slideshow": {
     "slide_type": "slide"
    }
   },
   "source": [
    "The data hence looks as follows:\n",
    "\n",
    "* an x matrix (containing the datapoints) of size [N x D]\n",
    "* a y vector containing the \"one-hot\" index of the correct label for each row in x"
   ]
  },
  {
   "cell_type": "markdown",
   "metadata": {
    "slideshow": {
     "slide_type": "slide"
    }
   },
   "source": [
    "In the next cell, initialize your $W^{(i)}$, $W^{(h)}$, $W^{(o)}$ matrices with random numbers, and carry out the forward pass of the RNN for the entire verse (stop once you have a loss calculated). \n",
    "\n",
    "The goal is to correctly classify the input word at each time-step.\n",
    "\n",
    "You will also have to initialize the $h$ state before the network gets any inputs. It is common practice to initialize this hidden state using zeros"
   ]
  },
  {
   "cell_type": "code",
   "execution_count": 31,
   "metadata": {
    "collapsed": true
   },
   "outputs": [],
   "source": [
    "l1(a,b) = sum(abs(a-b));\n",
    "\n",
    "norm(x) = x/sum(x);\n",
    "function norm_min(x)\n",
    "    out = x-minimum(x);\n",
    "    out = norm(out);\n",
    "    return out;\n",
    "end\n",
    "\n",
    "softmax_sum(x) = sum(exp(x))\n",
    "softmax(x) = exp(x)/sum(exp(x))\n",
    "\n",
    "sigmoid(x) = 1/(1+exp(-x))\n",
    "function sigmoids(x)\n",
    "    n = size(x)[1]\n",
    "    out = zeros(n)\n",
    "    for i=1:n\n",
    "        out[i] = sigmoid(x[i])\n",
    "    end\n",
    "    return out\n",
    "end\n",
    "\n",
    "function b_e(i,n)\n",
    "    out = zeros(n);\n",
    "    out[i] = 1;\n",
    "    return out;\n",
    "end;"
   ]
  },
  {
   "cell_type": "code",
   "execution_count": 32,
   "metadata": {
    "collapsed": false
   },
   "outputs": [],
   "source": [
    "# println(D)\n",
    "# println(C)\n",
    "# println(size(x[1,:]))"
   ]
  },
  {
   "cell_type": "code",
   "execution_count": 33,
   "metadata": {
    "collapsed": false,
    "slideshow": {
     "slide_type": "slide"
    }
   },
   "outputs": [],
   "source": [
    "H = 10\n",
    "W_i = rand(D,H)\n",
    "W_h = rand(H,H)\n",
    "W_o = rand(H,C)\n",
    "h_prev = zeros(1,H)\n",
    "\n",
    "loss = 0\n",
    "for t=1:N\n",
    "    h = tanh(x[t,:]'*W_i + h_prev*W_h)\n",
    "    scores = h*W_o\n",
    "    y_hat = softmax(scores)\n",
    "    loss = -log(y_hat[y[t]])\n",
    "    max_val, max_ind = findmax(y_hat)\n",
    "#     sentence[t,:] = mxindx\n",
    "end\n",
    "        \n"
   ]
  },
  {
   "cell_type": "markdown",
   "metadata": {
    "slideshow": {
     "slide_type": "slide"
    }
   },
   "source": [
    "\n",
    "Believe it or not, this is already a generative model (perhaps a really crappy one). The following cell should be able to use your neurons in $W^{(i)}$, $W^{(h)}$, $W^{(o)}$ and generate new text after we initialize the network with the words: \"The dark trees\""
   ]
  },
  {
   "cell_type": "code",
   "execution_count": 34,
   "metadata": {
    "collapsed": false,
    "slideshow": {
     "slide_type": "slide"
    }
   },
   "outputs": [
    {
     "name": "stdout",
     "output_type": "stream",
     "text": [
      "the the the the the the the the the the "
     ]
    }
   ],
   "source": [
    "tickle_indices = [word_to_i[\"I\"],word_to_i[\"got\"]] + 1\n",
    "# using the word embeddings\n",
    "tickles = zeros(size(tickle_indices)[1],D)\n",
    "for i=1:size(tickle_indices)[1]\n",
    "    \n",
    "    tickles[i,:] = W_embeddings[floor(Int,tickle_indices[i]),:]\n",
    "    \n",
    "end\n",
    "\n",
    "# desired total length of sentence generated:\n",
    "S_length = 10\n",
    "\n",
    "# initialize hidden state\n",
    "h_prev = zeros(1,size(W_h)[1])\n",
    "\n",
    "# this loop tickles the RNN\n",
    "sentence = zeros(S_length, 1)\n",
    "for t = 1:size(tickle_indices)[1]\n",
    "    \n",
    "    h_now = tanh(reshape(tickles[t,:],1,D) * W_i + h_prev * W_h)\n",
    "    scores = h_now * W_o\n",
    "    y_hat = exp(scores)./sum(exp(scores))\n",
    "    mxval, mxindx = findmax(y_hat)\n",
    "    sentence[t,1] = mxindx\n",
    "    \n",
    "    h_prev = h_now\n",
    "end\n",
    "\n",
    "# this loop keeps the RNN going even after the tickles have ended\n",
    "for t = size(tickles)[1]:S_length\n",
    "    \n",
    "    h_now = tanh(h_prev * W_h)\n",
    "    scores = h_now * W_o\n",
    "    y_hat = exp(scores)./sum(exp(scores))\n",
    "    mxval, mxindx = findmax(y_hat)\n",
    "    sentence[t,1] = mxindx\n",
    "    \n",
    "    h_prev = h_now\n",
    "end\n",
    "\n",
    "# this loops turns the indices stored in the \"sentence\" array into human-readable words\n",
    "for t=1:S_length\n",
    "\n",
    "    print(i_to_word[sentence[t]-1])\n",
    "    print(' ')\n",
    "    \n",
    "end"
   ]
  },
  {
   "cell_type": "markdown",
   "metadata": {
    "slideshow": {
     "slide_type": "slide"
    }
   },
   "source": [
    "As you can tell, the model is really bad. In order to improve it we will need to backpropragate the error associated with the cost function w.r.t learnable parameters:\n",
    "\n",
    "$$J = \\sum_t J_t = \\sum_t -\\log(\\hat{y}_{t~correct})$$\n",
    "\n",
    "$$\\frac{\\partial J}{\\partial W^{(i)}}$$\n",
    "\n",
    "$$\\frac{\\partial J}{\\partial W^{(h)}}$$\n",
    "\n",
    "$$\\frac{\\partial J}{\\partial W^{(o)}}$$"
   ]
  },
  {
   "cell_type": "markdown",
   "metadata": {
    "slideshow": {
     "slide_type": "slide"
    }
   },
   "source": [
    "Let's start with $\\frac{\\partial J}{\\partial W^{(o)}}$. For this example, assume $T = 3$. Hence we have:\n",
    "\n",
    "$\\frac{\\partial J}{\\partial W^{(o)}} = \\sum_t^3 \\frac{\\partial J_t}{\\partial W^{(o)}}$\n",
    "\n",
    "$\\frac{\\partial J}{\\partial W^{(o)}} = \\sum_t^3 ~\\big(\\frac{\\partial f(~x_t~W^{(i)} + ~h_{t-1}~W^{(h)})~W^{(o)}}{\\partial W^{(o)}}\\big)^T~\\frac{\\partial J_t}{\\partial \\hat{y}} ~\\frac{\\partial \\hat{y}}{\\partial f(~x_t~W^{(i)} + ~h_{t-1}~W^{(h)}) ~W^{(o)}} = \\sum_t^3 ~f(~x_t~W^{(i)} + ~h_{t-1}~W^{(h)})^T~\\frac{\\partial J_t}{\\partial s}$"
   ]
  },
  {
   "cell_type": "code",
   "execution_count": 39,
   "metadata": {
    "collapsed": false,
    "slideshow": {
     "slide_type": "slide"
    }
   },
   "outputs": [],
   "source": [
    "H = 10\n",
    "W_i = rand(D,H)\n",
    "W_h = rand(H,H)\n",
    "W_o = rand(H,C)\n",
    "h_prev = zeros(1,H)\n",
    "\n",
    "for i=1:100\n",
    "    ys = zeros(N,C)\n",
    "    loss = 0\n",
    "    dj_ds = 0\n",
    "    dj_dw_o = 0\n",
    "    for t=1:N\n",
    "        h = tanh(x[t,:]'*W_i + h_prev*W_h)\n",
    "        scores = h*W_o\n",
    "        y_hat = softmax(scores)\n",
    "        loss += -log(y_hat[y[t]])\n",
    "        max_val, max_ind = findmax(y_hat)\n",
    "    #     sentence[t,:] = mxindx\n",
    "        dj_ds = y_hat - b_e(y_tr[t],C)'\n",
    "        dj_dw_o += h'*dj_ds\n",
    "    end\n",
    "    \n",
    "   \n",
    "end"
   ]
  },
  {
   "cell_type": "code",
   "execution_count": 40,
   "metadata": {
    "collapsed": false,
    "slideshow": {
     "slide_type": "slide"
    }
   },
   "outputs": [
    {
     "name": "stdout",
     "output_type": "stream",
     "text": [
      "the the the the the the the the the the "
     ]
    }
   ],
   "source": [
    "tickle_indices = [word_to_i[\"I\"],word_to_i[\"trees\"]] + 1 # one corrects for the zero-base indexing\n",
    "# using the word embeddings\n",
    "tickles = zeros(size(tickle_indices)[1],D)\n",
    "for i=1:size(tickle_indices)[1]\n",
    "    \n",
    "    tickles[i,:] = W_embeddings[floor(Int,tickle_indices[i]),:]\n",
    "    \n",
    "end\n",
    "\n",
    "# desired total length of sentence generated:\n",
    "S_length = 10\n",
    "\n",
    "# initialize hidden state\n",
    "h_prev = zeros(1,size(W_h)[1])\n",
    "\n",
    "# this loop tickles the RNN\n",
    "sentence = zeros(S_length, 1)\n",
    "for t = 1:size(tickle_indices)[1]\n",
    "    \n",
    "    h_now = tanh(reshape(tickles[t,:],1,D) * W_i + h_prev * W_h)\n",
    "    scores = h_now * W_o\n",
    "    y_hat = exp(scores)./sum(exp(scores))\n",
    "    mxval, mxindx = findmax(y_hat)\n",
    "    sentence[t,1] = mxindx\n",
    "    \n",
    "    h_prev = h_now\n",
    "end\n",
    "\n",
    "# this loop keeps the RNN going even after the tickles have ended\n",
    "for t = size(tickles)[1]:S_length\n",
    "    \n",
    "    h_now = tanh(h_prev * W_h)\n",
    "    scores = h_now * W_o\n",
    "    y_hat = exp(scores)./sum(exp(scores))\n",
    "    mxval, mxindx = findmax(y_hat)\n",
    "    sentence[t,1] = mxindx\n",
    "    \n",
    "    h_prev = h_now\n",
    "end\n",
    "\n",
    "# this loops turns the indices stored in the \"sentence\" array into human-readable words\n",
    "for t=1:S_length\n",
    "\n",
    "    print(i_to_word[sentence[t]-1])\n",
    "    print(' ')\n",
    "    \n",
    "end"
   ]
  },
  {
   "cell_type": "markdown",
   "metadata": {
    "slideshow": {
     "slide_type": "slide"
    }
   },
   "source": [
    "To make this even better we will have to backpropagate $\\frac{\\partial J}{\\partial W^{(h)}}$ and $\\frac{\\partial J}{\\partial W^{(i)}}$ too (remember that in this example $T = 3$):\n",
    "\n",
    "$\\frac{\\partial J}{\\partial W^{(h)}} = \\sum_t^3 ~\\big(\\frac{\\partial f(~x_t~W^{(i)} + ~h_{t-1}~W^{(h)})~W^{(o)}}{\\partial W^{(h)}}\\big)^T~\\frac{\\partial J_t}{\\partial f(~x_t~W^{(i)} + ~h_{t-1}~W^{(h)}) ~W^{(o)}}$"
   ]
  },
  {
   "cell_type": "markdown",
   "metadata": {},
   "source": [
    "$\\sum_t^3 ~\\big(\\frac{\\partial f(~x_t~W^{(i)} + ~h_{t-1}~W^{(h)})~W^{(o)}}{\\partial f(~x_t~W^{(i)} + ~h_{t-1}~W^{(h)})}~\\frac{\\partial f(~x_t~W^{(i)} + ~h_{t-1}~W^{(h)})}{\\partial W^{(h)}}\\big)^T~\\frac{\\partial J_t}{\\partial f(~x_t~W^{(i)} + ~h_{t-1}~W^{(h)}) ~W^{(o)}}$\n",
    "$\\sum_t^3 ~\\big(\\frac{\\partial f(~x_t~W^{(i)} + ~h_{t-1}~W^{(h)})~W^{(o)}}{\\partial f(~x_t~W^{(i)} + ~h_{t-1}~W^{(h)})}~\\frac{\\partial f(~x_t~W^{(i)} + ~h_{t-1}~W^{(h)})}{\\partial ~x_t~W^{(i)} + ~h_{t-1}~W^{(h)}}\\frac{\\partial ~x_t~W^{(i)} + ~h_{t-1}~W^{(h)}}{\\partial W^{(h)}}\\big)^T~\\frac{\\partial J_t}{\\partial f(~x_t~W^{(i)} + ~h_{t-1}~W^{(h)}) ~W^{(o)}}$"
   ]
  },
  {
   "cell_type": "code",
   "execution_count": 132,
   "metadata": {
    "collapsed": false,
    "slideshow": {
     "slide_type": "slide"
    }
   },
   "outputs": [
    {
     "name": "stdout",
     "output_type": "stream",
     "text": [
      "0: 89.78649209664043,   \n",
      "10000: 63.667696921408634,   \n",
      "20000: 16.081439694630696,   \n",
      "30000: 12.998956573100415,   \n",
      "40000: 11.568317685838409,   \n",
      "50000: 10.416632694851998,   \n",
      "60000: 9.59501446954616,   \n",
      "70000: 9.214026180776786,   \n",
      "80000: 8.979073490173077,   \n",
      "90000: 8.801435728660442,   \n",
      "100000: 8.646112886180086,   \n",
      "110000: 8.495754512229462,   \n",
      "120000: 8.34504975789243,   \n",
      "130000: 8.191277092978435,   \n",
      "140000: 8.032765155541863,   \n",
      "150000: 7.8666244971976,   \n",
      "160000: 7.6912660533854424,   \n",
      "170000: 7.504745132716541,   \n",
      "180000: 7.308534230297139,   \n",
      "190000: 7.10946950073395,   \n"
     ]
    }
   ],
   "source": [
    "H = 10\n",
    "alpha = 0.0012\n",
    "W_i = rand(D,H)\n",
    "W_h = rand(H,H)\n",
    "W_o = rand(H,C)\n",
    "# println(W_o)\n",
    "for i=1:200000\n",
    "    ys = zeros(N,C)\n",
    "    loss = 0\n",
    "    dj_ds = 0\n",
    "    dj_dw_o = zeros(H,C)\n",
    "    dj_dw_h = zeros(H,H)\n",
    "    dj_dw_i = zeros(D,H)\n",
    "    h_prev = zeros(1,H)\n",
    "    for t=1:N\n",
    "        h = tanh(x[t,:]'*W_i + h_prev*W_h)\n",
    "        scores = h*W_o\n",
    "        y_hat = softmax(scores)\n",
    "        loss += -log(y_hat[y[t]])\n",
    "        max_val, max_ind = findmax(y_hat)\n",
    "        dh = 1-h.^2\n",
    "        dj_ds = y_hat - b_e(y_tr[t],C)'\n",
    "        dj_dw_o += h'*dj_ds\n",
    "        dj_dw_i += x[t,:]*((dj_ds*W_o').*dh)\n",
    "        dj_dw_h += h_prev'*((dj_ds*W_o').*dh)\n",
    "        h_prev = h\n",
    "    end\n",
    "    if i%10000==1\n",
    "        print(i-1)\n",
    "        print(\": \")\n",
    "        print(loss)\n",
    "        print(\",   \\n\")\n",
    "    end\n",
    "#     println(dj_dw_o)\n",
    "    W_o = W_o - alpha.*dj_dw_o\n",
    "    W_h = W_h - alpha.*dj_dw_h\n",
    "    W_i = W_i - alpha.*dj_dw_i\n",
    "    \n",
    "   \n",
    "end\n",
    "# println(W_o)"
   ]
  },
  {
   "cell_type": "code",
   "execution_count": 136,
   "metadata": {
    "collapsed": false,
    "slideshow": {
     "slide_type": "slide"
    }
   },
   "outputs": [
    {
     "name": "stdout",
     "output_type": "stream",
     "text": [
      "got got idea man You take me for a walk Under the sycamore trees the dark trees that blow baby In the dark trees that blow <end> <end> man take take me for a a walk Under the sycamore trees the dark trees got blow baby In the dark trees that blow <end> <end> man take take me for a a walk Under the sycamore trees the dark trees got blow baby In the dark trees that blow <end> <end> man take take me for a a walk Under the sycamore trees the dark trees got blow baby In the dark trees that blow <end> <end> man take take me for a a walk Under the sycamore trees the dark trees got blow baby In the dark trees that blow <end> <end> man take take me for a a walk Under the sycamore trees the dark trees got blow baby In the dark trees that blow <end> <end> man take take me for a a walk Under the sycamore trees the dark trees got blow baby In the dark trees that blow <end> <end> man take take me for a a walk Under the sycamore trees the dark trees got blow baby In the dark trees that blow <end> <end> man take take me for a a walk Under the sycamore trees the dark trees got blow baby In the dark trees that blow <end> <end> man take take me for a a walk Under the sycamore trees the dark "
     ]
    }
   ],
   "source": [
    "tickle_indices = [word_to_i[\"I\"],word_to_i[\"got\"]] + 1 # one corrects for the zero-base indexing\n",
    "# using the word embeddings\n",
    "tickles = zeros(size(tickle_indices)[1],D)\n",
    "for i=1:size(tickle_indices)[1]\n",
    "    \n",
    "    tickles[i,:] = W_embeddings[floor(Int,tickle_indices[i]),:]\n",
    "    \n",
    "end\n",
    "\n",
    "# desired total length of sentence generated:\n",
    "S_length = 250\n",
    "\n",
    "# initialize hidden state\n",
    "h_prev = zeros(1,size(W_h)[1])\n",
    "\n",
    "# this loop tickles the RNN\n",
    "sentence = zeros(S_length, 1)\n",
    "for t = 1:size(tickle_indices)[1]\n",
    "    \n",
    "    h_now = tanh(reshape(tickles[t,:],1,D) * W_i + h_prev * W_h)\n",
    "    scores = h_now * W_o\n",
    "    y_hat = exp(scores)./sum(exp(scores))\n",
    "    mxval, mxindx = findmax(y_hat)\n",
    "    sentence[t,1] = mxindx\n",
    "    \n",
    "    h_prev = h_now\n",
    "end\n",
    "\n",
    "# this loop keeps the RNN going even after the tickles have ended\n",
    "for t = size(tickles)[1]:S_length\n",
    "    \n",
    "    h_now = tanh(h_prev * W_h)\n",
    "    scores = h_now * W_o\n",
    "    y_hat = exp(scores)./sum(exp(scores))\n",
    "    mxval, mxindx = findmax(y_hat)\n",
    "    sentence[t,1] = mxindx\n",
    "    \n",
    "    h_prev = h_now\n",
    "end\n",
    "\n",
    "# this loops turns the indices stored in the \"sentence\" array into human-readable words\n",
    "for t=1:S_length\n",
    "\n",
    "    print(i_to_word[sentence[t]-1])\n",
    "    print(' ')\n",
    "    \n",
    "end"
   ]
  },
  {
   "cell_type": "code",
   "execution_count": null,
   "metadata": {
    "collapsed": true
   },
   "outputs": [],
   "source": []
  },
  {
   "cell_type": "code",
   "execution_count": null,
   "metadata": {
    "collapsed": true
   },
   "outputs": [],
   "source": []
  },
  {
   "cell_type": "code",
   "execution_count": null,
   "metadata": {
    "collapsed": true
   },
   "outputs": [],
   "source": []
  }
 ],
 "metadata": {
  "celltoolbar": "Slideshow",
  "kernelspec": {
   "display_name": "Julia 0.5.2",
   "language": "julia",
   "name": "julia-0.5"
  },
  "language_info": {
   "file_extension": ".jl",
   "mimetype": "application/julia",
   "name": "julia",
   "version": "0.5.2"
  }
 },
 "nbformat": 4,
 "nbformat_minor": 2
}
